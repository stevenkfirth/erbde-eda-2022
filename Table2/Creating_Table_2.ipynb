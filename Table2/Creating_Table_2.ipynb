{
 "cells": [
  {
   "cell_type": "markdown",
   "id": "105f3a2c",
   "metadata": {},
   "source": [
    "# Table 2. Household characteristics of the 20 study homes.\n",
    "\n",
    "This notebook recreates Table 2 of the paper 'Heating behaviour in English homes: An assessment of indirect calculation methods'.\n",
    "\n",
    "The paper is available here: https://www.sciencedirect.com/science/article/pii/S0378778817314342\n",
    "\n"
   ]
  },
  {
   "cell_type": "markdown",
   "id": "7acb098d",
   "metadata": {},
   "source": [
    "## Setup"
   ]
  },
  {
   "cell_type": "code",
   "execution_count": 45,
   "id": "d4d9199d",
   "metadata": {},
   "outputs": [],
   "source": [
    "from lxml import etree\n",
    "NS={'a':'http://www.refitsmarthomes.org'}\n",
    "from collections import Counter\n",
    "import pandas as pd"
   ]
  },
  {
   "cell_type": "markdown",
   "id": "e6e128dc",
   "metadata": {},
   "source": [
    "## Step 1: Read in the data"
   ]
  },
  {
   "cell_type": "code",
   "execution_count": 11,
   "id": "4fdc643d",
   "metadata": {},
   "outputs": [],
   "source": [
    "filename=r'C:\\Users\\cvskf\\OneDrive - Loughborough University\\_Data\\REFIT_Smart_Home_dataset_PUBLIC_v1\\Data\\REFIT_BUILDING_SURVEY.xml'\n",
    "tree = etree.parse(filename)"
   ]
  },
  {
   "cell_type": "code",
   "execution_count": 12,
   "id": "907dcc0d",
   "metadata": {},
   "outputs": [
    {
     "data": {
      "text/plain": [
       "<lxml.etree._ElementTree at 0x240a1f02040>"
      ]
     },
     "execution_count": 12,
     "metadata": {},
     "output_type": "execute_result"
    }
   ],
   "source": [
    "tree"
   ]
  },
  {
   "cell_type": "code",
   "execution_count": 13,
   "id": "1267ce51",
   "metadata": {},
   "outputs": [
    {
     "data": {
      "text/plain": [
       "lxml.etree._ElementTree"
      ]
     },
     "execution_count": 13,
     "metadata": {},
     "output_type": "execute_result"
    }
   ],
   "source": [
    "type(tree)"
   ]
  },
  {
   "cell_type": "code",
   "execution_count": 1,
   "id": "dcf4e538",
   "metadata": {},
   "outputs": [],
   "source": [
    "#print(etree.tostring(tree, pretty_print=True).decode())"
   ]
  },
  {
   "cell_type": "markdown",
   "id": "d96efd7d",
   "metadata": {},
   "source": [
    "## Step 2: Clean and/or process the data"
   ]
  },
  {
   "cell_type": "code",
   "execution_count": null,
   "id": "6863f952",
   "metadata": {},
   "outputs": [],
   "source": []
  },
  {
   "cell_type": "markdown",
   "id": "345b0f14",
   "metadata": {},
   "source": [
    "## Step 3: Analyse the data"
   ]
  },
  {
   "cell_type": "markdown",
   "id": "c3fa852c",
   "metadata": {},
   "source": [
    "### What is the distribution of house type in the 20 buildings?"
   ]
  },
  {
   "cell_type": "code",
   "execution_count": 27,
   "id": "c5305b1f",
   "metadata": {},
   "outputs": [
    {
     "data": {
      "text/plain": [
       "[<Element {http://www.refitsmarthomes.org}Building at 0x240a40ebd80>,\n",
       " <Element {http://www.refitsmarthomes.org}Building at 0x240a41000c0>,\n",
       " <Element {http://www.refitsmarthomes.org}Building at 0x240a4106900>,\n",
       " <Element {http://www.refitsmarthomes.org}Building at 0x240a410ebc0>,\n",
       " <Element {http://www.refitsmarthomes.org}Building at 0x240a411bac0>,\n",
       " <Element {http://www.refitsmarthomes.org}Building at 0x240a41268c0>,\n",
       " <Element {http://www.refitsmarthomes.org}Building at 0x240a4130e00>,\n",
       " <Element {http://www.refitsmarthomes.org}Building at 0x240a4137a00>,\n",
       " <Element {http://www.refitsmarthomes.org}Building at 0x240a413ee00>,\n",
       " <Element {http://www.refitsmarthomes.org}Building at 0x240a4146c00>,\n",
       " <Element {http://www.refitsmarthomes.org}Building at 0x240a414efc0>,\n",
       " <Element {http://www.refitsmarthomes.org}Building at 0x240a4156e40>,\n",
       " <Element {http://www.refitsmarthomes.org}Building at 0x240a415dd40>,\n",
       " <Element {http://www.refitsmarthomes.org}Building at 0x240a4167bc0>,\n",
       " <Element {http://www.refitsmarthomes.org}Building at 0x240a416d980>,\n",
       " <Element {http://www.refitsmarthomes.org}Building at 0x240a4178600>,\n",
       " <Element {http://www.refitsmarthomes.org}Building at 0x240a417f340>,\n",
       " <Element {http://www.refitsmarthomes.org}Building at 0x240a4186680>,\n",
       " <Element {http://www.refitsmarthomes.org}Building at 0x240a418d3c0>,\n",
       " <Element {http://www.refitsmarthomes.org}Building at 0x240a4194940>]"
      ]
     },
     "execution_count": 27,
     "metadata": {},
     "output_type": "execute_result"
    }
   ],
   "source": [
    "xpath_query_string='//a:Building'\n",
    "buildings=tree.getroot().xpath(xpath_query_string,namespaces=NS)\n",
    "buildings"
   ]
  },
  {
   "cell_type": "code",
   "execution_count": 35,
   "id": "c3547b0b",
   "metadata": {
    "scrolled": false
   },
   "outputs": [
    {
     "data": {
      "text/plain": [
       "['Detached house or bungalow',\n",
       " 'Semi detached house or bungalow',\n",
       " 'Detached house or bungalow',\n",
       " 'Detached house or bungalow',\n",
       " 'Mid terrace house or bungalow',\n",
       " 'Detached house or bungalow',\n",
       " 'Detached house or bungalow',\n",
       " 'Detached house or bungalow',\n",
       " 'Detached house or bungalow',\n",
       " 'Detached house or bungalow',\n",
       " 'Detached house or bungalow',\n",
       " 'Detached house or bungalow',\n",
       " 'Detached house or bungalow',\n",
       " 'Semi detached house or bungalow',\n",
       " 'Detached house or bungalow',\n",
       " 'Detached house or bungalow',\n",
       " 'Detached house or bungalow',\n",
       " 'Semi detached house or bungalow',\n",
       " 'Detached house or bungalow',\n",
       " 'Detached house or bungalow']"
      ]
     },
     "execution_count": 35,
     "metadata": {},
     "output_type": "execute_result"
    }
   ],
   "source": [
    "result=[]\n",
    "for building in buildings:\n",
    "    result.append(building.get('builtFormType'))\n",
    "result"
   ]
  },
  {
   "cell_type": "code",
   "execution_count": 36,
   "id": "2262fe68",
   "metadata": {},
   "outputs": [
    {
     "data": {
      "text/plain": [
       "['Detached house or bungalow',\n",
       " 'Semi detached house or bungalow',\n",
       " 'Detached house or bungalow',\n",
       " 'Detached house or bungalow',\n",
       " 'Mid terrace house or bungalow',\n",
       " 'Detached house or bungalow',\n",
       " 'Detached house or bungalow',\n",
       " 'Detached house or bungalow',\n",
       " 'Detached house or bungalow',\n",
       " 'Detached house or bungalow',\n",
       " 'Detached house or bungalow',\n",
       " 'Detached house or bungalow',\n",
       " 'Detached house or bungalow',\n",
       " 'Semi detached house or bungalow',\n",
       " 'Detached house or bungalow',\n",
       " 'Detached house or bungalow',\n",
       " 'Detached house or bungalow',\n",
       " 'Semi detached house or bungalow',\n",
       " 'Detached house or bungalow',\n",
       " 'Detached house or bungalow']"
      ]
     },
     "execution_count": 36,
     "metadata": {},
     "output_type": "execute_result"
    }
   ],
   "source": [
    "result=[building.get('builtFormType') for building in buildings]  # list comprehension\n",
    "result"
   ]
  },
  {
   "cell_type": "code",
   "execution_count": 37,
   "id": "19fd1c98",
   "metadata": {},
   "outputs": [
    {
     "data": {
      "text/plain": [
       "['Detached house or bungalow',\n",
       " 'Semi detached house or bungalow',\n",
       " 'Detached house or bungalow',\n",
       " 'Detached house or bungalow',\n",
       " 'Mid terrace house or bungalow',\n",
       " 'Detached house or bungalow',\n",
       " 'Detached house or bungalow',\n",
       " 'Detached house or bungalow',\n",
       " 'Detached house or bungalow',\n",
       " 'Detached house or bungalow',\n",
       " 'Detached house or bungalow',\n",
       " 'Detached house or bungalow',\n",
       " 'Detached house or bungalow',\n",
       " 'Semi detached house or bungalow',\n",
       " 'Detached house or bungalow',\n",
       " 'Detached house or bungalow',\n",
       " 'Detached house or bungalow',\n",
       " 'Semi detached house or bungalow',\n",
       " 'Detached house or bungalow',\n",
       " 'Detached house or bungalow']"
      ]
     },
     "execution_count": 37,
     "metadata": {},
     "output_type": "execute_result"
    }
   ],
   "source": [
    "xpath_query_string='//a:Building/@builtFormType'\n",
    "result=tree.getroot().xpath(xpath_query_string,namespaces=NS)\n",
    "result"
   ]
  },
  {
   "cell_type": "code",
   "execution_count": 42,
   "id": "bdfde81b",
   "metadata": {},
   "outputs": [
    {
     "data": {
      "text/plain": [
       "Counter({'Detached house or bungalow': 16,\n",
       "         'Semi detached house or bungalow': 3,\n",
       "         'Mid terrace house or bungalow': 1})"
      ]
     },
     "execution_count": 42,
     "metadata": {},
     "output_type": "execute_result"
    }
   ],
   "source": [
    "house_type_distribution=Counter(result)\n",
    "house_type_distribution"
   ]
  },
  {
   "cell_type": "markdown",
   "id": "2c3a921a",
   "metadata": {},
   "source": [
    "... in a single code cell..."
   ]
  },
  {
   "cell_type": "code",
   "execution_count": 43,
   "id": "c7e536a7",
   "metadata": {},
   "outputs": [
    {
     "data": {
      "text/plain": [
       "Counter({'Detached house or bungalow': 16,\n",
       "         'Semi detached house or bungalow': 3,\n",
       "         'Mid terrace house or bungalow': 1})"
      ]
     },
     "execution_count": 43,
     "metadata": {},
     "output_type": "execute_result"
    }
   ],
   "source": [
    "xpath_query_string='//a:Building/@builtFormType'\n",
    "result=tree.getroot().xpath(xpath_query_string,namespaces=NS)\n",
    "house_type_distribution=Counter(result)\n",
    "house_type_distribution"
   ]
  },
  {
   "cell_type": "code",
   "execution_count": 44,
   "id": "64562de7",
   "metadata": {},
   "outputs": [
    {
     "data": {
      "text/plain": [
       "1"
      ]
     },
     "execution_count": 44,
     "metadata": {},
     "output_type": "execute_result"
    }
   ],
   "source": [
    "house_type_distribution['Mid terrace house or bungalow']"
   ]
  },
  {
   "cell_type": "code",
   "execution_count": null,
   "id": "85dceefe",
   "metadata": {},
   "outputs": [],
   "source": []
  },
  {
   "cell_type": "markdown",
   "id": "e9ef7b9e",
   "metadata": {},
   "source": [
    "## Step 4: Output the graphs and tables"
   ]
  },
  {
   "cell_type": "markdown",
   "id": "3ad1dd4f",
   "metadata": {},
   "source": [
    "### Creating Table 2"
   ]
  },
  {
   "cell_type": "code",
   "execution_count": 60,
   "id": "b0c67076",
   "metadata": {},
   "outputs": [
    {
     "data": {
      "text/html": [
       "<div>\n",
       "<style scoped>\n",
       "    .dataframe tbody tr th:only-of-type {\n",
       "        vertical-align: middle;\n",
       "    }\n",
       "\n",
       "    .dataframe tbody tr th {\n",
       "        vertical-align: top;\n",
       "    }\n",
       "\n",
       "    .dataframe thead th {\n",
       "        text-align: right;\n",
       "    }\n",
       "</style>\n",
       "<table border=\"1\" class=\"dataframe\">\n",
       "  <thead>\n",
       "    <tr style=\"text-align: right;\">\n",
       "      <th></th>\n",
       "      <th>Description</th>\n",
       "    </tr>\n",
       "    <tr>\n",
       "      <th>Characteristic</th>\n",
       "      <th></th>\n",
       "    </tr>\n",
       "  </thead>\n",
       "  <tbody>\n",
       "    <tr>\n",
       "      <th>House type</th>\n",
       "      <td>Detached (16), semi-detached (3), mid-terrace (1)</td>\n",
       "    </tr>\n",
       "    <tr>\n",
       "      <th>Construction type</th>\n",
       "      <td>test</td>\n",
       "    </tr>\n",
       "  </tbody>\n",
       "</table>\n",
       "</div>"
      ],
      "text/plain": [
       "                                                         Description\n",
       "Characteristic                                                      \n",
       "House type         Detached (16), semi-detached (3), mid-terrace (1)\n",
       "Construction type                                               test"
      ]
     },
     "execution_count": 60,
     "metadata": {},
     "output_type": "execute_result"
    }
   ],
   "source": [
    "index=pd.Index(['House type','Construction type'],name='Characteristic')\n",
    "df=pd.DataFrame(index=index,\n",
    "                data={'Description':[f'Detached ({house_type_distribution[\"Detached house or bungalow\"]}), semi-detached ({house_type_distribution[\"Semi detached house or bungalow\"]}), mid-terrace ({house_type_distribution[\"Mid terrace house or bungalow\"]})',\n",
    "                                     'test'\n",
    "                                    ]})\n",
    "df"
   ]
  },
  {
   "cell_type": "code",
   "execution_count": 62,
   "id": "306f6e35",
   "metadata": {},
   "outputs": [],
   "source": [
    "df.to_csv('Table2.csv')"
   ]
  },
  {
   "cell_type": "code",
   "execution_count": null,
   "id": "81940da6",
   "metadata": {},
   "outputs": [],
   "source": []
  },
  {
   "cell_type": "code",
   "execution_count": null,
   "id": "7971c1e1",
   "metadata": {},
   "outputs": [],
   "source": []
  }
 ],
 "metadata": {
  "kernelspec": {
   "display_name": "Python 3 (ipykernel)",
   "language": "python",
   "name": "python3"
  },
  "language_info": {
   "codemirror_mode": {
    "name": "ipython",
    "version": 3
   },
   "file_extension": ".py",
   "mimetype": "text/x-python",
   "name": "python",
   "nbconvert_exporter": "python",
   "pygments_lexer": "ipython3",
   "version": "3.9.7"
  }
 },
 "nbformat": 4,
 "nbformat_minor": 5
}
